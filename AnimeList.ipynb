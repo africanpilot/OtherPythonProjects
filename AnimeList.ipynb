{
 "cells": [
  {
   "cell_type": "code",
   "execution_count": null,
   "metadata": {
    "dotnet_interactive": {
     "language": "csharp"
    }
   },
   "outputs": [],
   "source": [
    "import urllib.request\n",
    "import io\n",
    "import re\n",
    "import pandas as pd \n",
    "import requests\n",
    "from urllib.parse import urlparse, urljoin\n",
    "from bs4 import BeautifulSoup\n",
    "import colorama\n",
    "import time\n",
    "import json"
   ]
  },
  {
   "cell_type": "code",
   "execution_count": null,
   "metadata": {
    "dotnet_interactive": {
     "language": "csharp"
    }
   },
   "outputs": [],
   "source": [
    "def getAnimeEpisodes_GoGoAnime(aniList,aniEpisodes):\n",
    "    for anime in aniList:\n",
    "        URL = 'https://gogoanime.so/category/' + anime\n",
    "        page = requests.get(URL)\n",
    "        soup = BeautifulSoup(page.content, 'html.parser')\n",
    "        results = soup.find('div',class_='anime_video_body')\n",
    "        results = results.find('a',class_='active')\n",
    "        text = results.get_text()\n",
    "        text_result = anime + \":\" + text\n",
    "        aniEpisodes.append(text_result)"
   ]
  },
  {
   "cell_type": "code",
   "execution_count": null,
   "metadata": {
    "dotnet_interactive": {
     "language": "csharp"
    }
   },
   "outputs": [],
   "source": [
    "animelist=['jujutsu-kaisen-tv','nanatsu-no-taizai-fundo-no-shinpan','dr-stone-stone-wars','shingeki-no-kyojin-the-final-season','beastars-2nd-season','one-piece','black-clover-tv','boruto-naruto-next-generations']\n",
    "animeEpisodes = []\n",
    "getAnimeEpisodes_GoGoAnime(animelist,animeEpisodes)"
   ]
  },
  {
   "cell_type": "code",
   "execution_count": null,
   "metadata": {
    "dotnet_interactive": {
     "language": "csharp"
    }
   },
   "outputs": [],
   "source": [
    "anime_GoGO = pd.DataFrame(animeEpisodes)\n",
    "anime_GoGO.columns = [\"anime\"]\n",
    "\n",
    "#Split new columns\n",
    "df = anime_GoGO[\"anime\"].str.split(\":\", n = 1, expand = True) \n",
    "anime_GoGO[\"Anime Title\"]= df[0] \n",
    "anime_GoGO[\"Episode\"]= df[1]\n",
    "\n",
    "#Split start and end anime columns\n",
    "df = anime_GoGO[\"Episode\"].str.split(\"-\", n = 1, expand = True)\n",
    "anime_GoGO[\"Start\"]= df[0] \n",
    "anime_GoGO[\"Latest Episode\"]= df[1]\n",
    "\n",
    "# Dropping old Name columns \n",
    "anime_GoGO.drop(columns =[\"anime\",'Episode','Start'], inplace = True)\n",
    "\n",
    "#Change title to upper and replace hyphen\n",
    "anime_GoGO['Anime Title'] = anime_GoGO['Anime Title'].str.upper()\n",
    "anime_GoGO['Anime Title'] = anime_GoGO['Anime Title'].str.replace(\"-\",\" \")\n",
    "anime_GoGO.to_csv('anime_watchlist.csv', index=False)\n",
    "anime_GoGO"
   ]
  },
  {
   "cell_type": "code",
   "execution_count": null,
   "metadata": {
    "dotnet_interactive": {
     "language": "csharp"
    }
   },
   "outputs": [],
   "source": []
  }
 ],
 "metadata": {
  "hide_input": false,
  "kernelspec": {
   "display_name": ".NET (C#)",
   "language": "C#",
   "name": ".net-csharp"
  },
  "language_info": {
   "file_extension": ".cs",
   "mimetype": "text/x-csharp",
   "name": "C#",
   "pygments_lexer": "csharp",
   "version": "8.0"
  },
  "toc": {
   "base_numbering": 1,
   "nav_menu": {},
   "number_sections": true,
   "sideBar": true,
   "skip_h1_title": false,
   "title_cell": "Table of Contents",
   "title_sidebar": "Contents",
   "toc_cell": false,
   "toc_position": {},
   "toc_section_display": true,
   "toc_window_display": false
  }
 },
 "nbformat": 4,
 "nbformat_minor": 4
}
