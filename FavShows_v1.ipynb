{
 "cells": [
  {
   "cell_type": "code",
   "execution_count": null,
   "metadata": {},
   "outputs": [],
   "source": [
    "from selenium import webdriver \n",
    "from selenium.webdriver.common.keys import Keys\n",
    "import pandas as pd\n",
    "import re\n",
    "import numpy as np\n",
    "import time\n",
    "from datetime import date,timedelta\n",
    "import base64\n",
    "import pytesseract\n",
    "import cv2"
   ]
  },
  {
   "cell_type": "code",
   "execution_count": null,
   "metadata": {},
   "outputs": [],
   "source": [
    "#Config\n",
    "ct = 0\n",
    "PATH = \"\"\n",
    "tesseractPath = \"\"\n",
    "lastXDays = \"\"\n",
    "searchList = []\n",
    "sitePath = \"https://rarbgcore.org\"\n",
    "\n",
    "f = open(\"Config.txt\", \"r\")\n",
    "while(True):\n",
    "    ct+=1\n",
    "    #read next line\n",
    "    line = f.readline()\n",
    "    #if line is empty, you are done with all lines in the file\n",
    "    if not line:\n",
    "        break\n",
    "    #you can access the line\n",
    "    if ct == 1:\n",
    "        PATH = line.strip()\n",
    "    if ct == 2:\n",
    "        tesseractPath = line.strip()\n",
    "    if ct == 3:\n",
    "        lastXDays = line.strip()\n",
    "    if ct == 4:\n",
    "        searchList = line.strip().split(\",\")\n",
    "#close file\n",
    "f.close"
   ]
  },
  {
   "cell_type": "code",
   "execution_count": null,
   "metadata": {},
   "outputs": [],
   "source": [
    "driver = webdriver.Chrome(PATH)\n",
    "time.sleep(5)"
   ]
  },
  {
   "cell_type": "code",
   "execution_count": null,
   "metadata": {},
   "outputs": [],
   "source": [
    "# get past bot checker\n",
    "driver.get(sitePath + \"/torrents.php\")\n",
    "time.sleep(10)\n",
    "# driver.get(\"https://rarbg.to/threat_defence.php?defence=1\")"
   ]
  },
  {
   "cell_type": "code",
   "execution_count": null,
   "metadata": {},
   "outputs": [],
   "source": [
    "# get captcha image\n",
    "img_base64 = driver.execute_script(\"\"\"\n",
    "    var ele = arguments[0];\n",
    "    var cnv = document.createElement('canvas');\n",
    "    cnv.width = 215; cnv.height = 80;\n",
    "    cnv.getContext('2d').drawImage(ele, 0, 0);\n",
    "    return cnv.toDataURL('image/jpeg').substring(22);    \n",
    "    \"\"\", driver.find_element_by_xpath(\"/html/body/form/div/div/table[1]/tbody/tr[2]/td[2]/img\"))\n",
    "with open(r\"image.jpg\", 'wb') as f:\n",
    "    f.write(base64.b64decode(img_base64)) "
   ]
  },
  {
   "cell_type": "code",
   "execution_count": null,
   "metadata": {},
   "outputs": [],
   "source": [
    "# load and decode captcha image\n",
    "pytesseract.pytesseract.tesseract_cmd = tesseractPath\n",
    "img = cv2.imread('image.jpg')\n",
    "text = pytesseract.image_to_string(img)\n",
    "text = text.rsplit(' ', 1)[0]"
   ]
  },
  {
   "cell_type": "code",
   "execution_count": null,
   "metadata": {},
   "outputs": [],
   "source": [
    "# enter captcha text\n",
    "inputElement = driver.find_element_by_id(\"solve_string\")\n",
    "inputElement.send_keys(text)\n",
    "inputElement.send_keys(Keys.ENTER)"
   ]
  },
  {
   "cell_type": "code",
   "execution_count": null,
   "metadata": {},
   "outputs": [],
   "source": [
    "def range1(start, end):\n",
    "    return range(start, end+1)\n",
    "\n",
    "def getTablefrom(urlSearch,pageNum):\n",
    "    driver.get(sitePath + \"/torrents.php?search=\"+ urlSearch + \"&order=filename&by=DESC&page=\" + str(pageNum))\n",
    "    driver.implicitly_wait(5)\n",
    "    data =[]\n",
    "    content = driver.find_elements_by_class_name('lista2')\n",
    "    for element in content:\n",
    "        data.append(element.text)\n",
    "\n",
    "    # separete into genre and no genre tables\n",
    "    df = pd.DataFrame(data,columns=['tableinfo'])\n",
    "    df[\"genre\"] = df[\"tableinfo\"].str.contains(r'\\n')\n",
    "    df_genre = df[df.genre == True]\n",
    "    df_NOgenre = df[df.genre == False]\n",
    "\n",
    "    # get genre table\n",
    "    genre_df = pd.DataFrame()\n",
    "    df_genre = df_genre[\"tableinfo\"].str.split(r\"\\n\", expand = True)\n",
    "    df_genre[\"newGenre\"] = df_genre[1].str.startswith(r\"20\")\n",
    "    genre_df[\"Name\"] = df_genre[0]\n",
    "\n",
    "    df_genre_1 = df_genre[df_genre.newGenre == True]\n",
    "    df_genre_1 = df_genre_1.drop(columns=['newGenre'])\n",
    "\n",
    "    df_genre_2 = df_genre[df_genre.newGenre == False]\n",
    "    df_genre_2 = df_genre_2[1].str.split(' (?=20..[-]..[-])',expand = True)\n",
    "\n",
    "    df_genre = df_genre_1.append(df_genre_2)\n",
    "    df_genre = df_genre[1].str.split(r' ', expand = True)\n",
    "    df_genre_merged = genre_df.merge(df_genre, how='inner', left_index=True, right_index=True)\n",
    "    df_genre_merged = df_genre_merged.rename(columns={0:\"Date\",1:\"Time\",2:\"Size\",3:\"Size_Lable\",4:\"Seeders\",5:\"Leachers\",6:\"Comments\",7:\"Uploader\"})\n",
    "\n",
    "    # get no genre table\n",
    "    if df_NOgenre.empty:\n",
    "        pass\n",
    "    else:\n",
    "        NOgenre_df = pd.DataFrame()\n",
    "        df_NOgenre = df_NOgenre[\"tableinfo\"].str.split(' (?=20..[-]..[-])',expand = True)\n",
    "        NOgenre_df[\"Name\"] = df_NOgenre[0]\n",
    "        df_NOgenre = df_NOgenre[1].str.split(r' ', expand = True)\n",
    "        df_NOgenre_merged = NOgenre_df.merge(df_NOgenre, how='inner', left_index=True, right_index=True)\n",
    "        df_NOgenre_merged = df_NOgenre_merged.rename(columns={0:\"Date\",1:\"Time\",2:\"Size\",3:\"Size_Lable\",4:\"Seeders\",5:\"Leachers\",6:\"Comments\",7:\"Uploader\"})\n",
    "\n",
    "    # merge genre and NOgenre\n",
    "    if df_NOgenre.empty:\n",
    "        df_merged = df_genre_merged\n",
    "    else:\n",
    "        df_merged = df_genre_merged.append(df_NOgenre_merged)\n",
    "    \n",
    "    df_merged = df_merged.sort_index()\n",
    "\n",
    "    return df_merged\n",
    "\n",
    "def getDownloadUrlPage():\n",
    "    content = driver.find_elements_by_tag_name('a')\n",
    "    data = []\n",
    "    for element in content:\n",
    "            data.append(element.get_attribute(\"href\"))\n",
    "            \n",
    "    df = pd.DataFrame(data)\n",
    "    df = df[df[0].str.contains(sitePath + r\"/torrent/.......$\",na=False)]\n",
    "    df = df.iloc[8:]\n",
    "    df = df.rename(columns={0:\"downloadurl\"})\n",
    "    return df\n",
    "\n",
    "def getDownloadFile(url):\n",
    "    driver.get(url)\n",
    "    content = driver.find_elements_by_tag_name('a')\n",
    "    data = []\n",
    "    for element in content:\n",
    "            data.append(element.get_attribute(\"href\"))\n",
    "            \n",
    "    df = pd.DataFrame(data)\n",
    "    df = df[df[0].str.contains(sitePath + r\"/download.php[?id=]\",na=False)]\n",
    "    lnk = df.iloc[0][0]\n",
    "    driver.get(lnk)\n",
    "\n",
    "def processResults(df,daysOld):\n",
    "    # Add new columns\n",
    "    df[\"Size_Converted\"] = np.where(df.Size_Lable == 'GB',df.Size, df.Size.apply(lambda x: float(x)* 0.001))\n",
    "    df.Leachers = df.Leachers.apply(lambda x: float(x))\n",
    "    df.Seeders = df.Seeders.apply(lambda x: float(x))\n",
    "    df[\"Ratio\"] = (df.Seeders / df.Leachers) *100\n",
    "\n",
    "    # filter dates and sort\n",
    "    today = pd.Timestamp('now').floor('D') + timedelta(days=1)\n",
    "    df['Date'] = pd.to_datetime(df['Date'], errors='ignore')\n",
    "    df = df[(df['Date'] > today-timedelta(days=daysOld)) & (df['Date'] <= today)]\n",
    "    df = df.sort_values(by=['Name','Date'], ascending=False)\n",
    "    df = df[[\"Name\",\"Date\",\"Time\",\"Size\",\"Size_Lable\",\"Seeders\",\"Leachers\",\"Comments\",\"Uploader\",\"downloadurl\"]]\n",
    "    df = df.reset_index(drop=True)\n",
    "\n",
    "    return df"
   ]
  },
  {
   "cell_type": "code",
   "execution_count": null,
   "metadata": {},
   "outputs": [],
   "source": [
    "# loop through all pages\n",
    "df_allpages = pd.DataFrame(columns=[\"index\",\"Name\",\"Date\",\"Time\",\"Size\",\"Size_Lable\",\"Seeders\",\"Leachers\",\"Comments\",\"Uploader\",\"downloadurl\"])\n",
    "for search in searchList:\n",
    "    for x in range1(1,1):\n",
    "        time.sleep(3)\n",
    "        df0 = getTablefrom(search,x)\n",
    "        df1 = getDownloadUrlPage().reset_index()\n",
    "        df2 = pd.concat([df0, df1], axis=1,sort=False)\n",
    "        df_allpages = pd.concat([df_allpages, df2], axis=0,sort=False)"
   ]
  },
  {
   "cell_type": "code",
   "execution_count": null,
   "metadata": {},
   "outputs": [],
   "source": [
    "# prcocess the results\n",
    "df_allpages = processResults(df_allpages,int(lastXDays))\n",
    "print(df_allpages)"
   ]
  },
  {
   "cell_type": "code",
   "execution_count": null,
   "metadata": {},
   "outputs": [],
   "source": [
    "# Download files\n",
    "df_download_list = df_allpages.downloadurl.tolist()\n",
    "for x in df_download_list:\n",
    "    time.sleep(3)\n",
    "    getDownloadFile(x)"
   ]
  },
  {
   "cell_type": "code",
   "execution_count": null,
   "metadata": {},
   "outputs": [],
   "source": [
    "# driver.close()"
   ]
  }
 ],
 "metadata": {
  "hide_input": false,
  "kernelspec": {
   "name": "python373jvsc74a57bd034dfee18d5f4a96df9a8fcc719c91cf50e8ed50de2aa108bf45cd20982063274",
   "display_name": "Python 3.7.3 64-bit ('base': conda)"
  },
  "language_info": {
   "codemirror_mode": {
    "name": "ipython",
    "version": 3
   },
   "file_extension": ".py",
   "mimetype": "text/x-python",
   "name": "python",
   "nbconvert_exporter": "python",
   "pygments_lexer": "ipython3",
   "version": "3.7.3"
  },
  "toc": {
   "base_numbering": 1,
   "nav_menu": {},
   "number_sections": true,
   "sideBar": true,
   "skip_h1_title": false,
   "title_cell": "Table of Contents",
   "title_sidebar": "Contents",
   "toc_cell": false,
   "toc_position": {},
   "toc_section_display": true,
   "toc_window_display": false
  }
 },
 "nbformat": 4,
 "nbformat_minor": 2
}